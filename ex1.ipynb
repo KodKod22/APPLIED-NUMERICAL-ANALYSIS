{
 "cells": [
  {
   "cell_type": "code",
   "execution_count": 40,
   "metadata": {},
   "outputs": [],
   "source": [
    "import math\n",
    "import numpy as np"
   ]
  },
  {
   "cell_type": "markdown",
   "metadata": {},
   "source": [
    "פרק 1"
   ]
  },
  {
   "cell_type": "code",
   "execution_count": 18,
   "metadata": {},
   "outputs": [
    {
     "data": {
      "text/plain": [
       "720"
      ]
     },
     "execution_count": 18,
     "metadata": {},
     "output_type": "execute_result"
    }
   ],
   "source": [
    "math.factorial(6) "
   ]
  },
  {
   "cell_type": "code",
   "execution_count": 1,
   "metadata": {},
   "outputs": [
    {
     "name": "stdout",
     "output_type": "stream",
     "text": [
      "124\n"
     ]
    }
   ],
   "source": [
    "\n",
    "leap_year = 0\n",
    "for x in range(1500,2011):\n",
    "    if(x % 4 == 0 and (x % 100 != 0 or x % 400 == 0)):\n",
    "        leap_year=leap_year+1\n",
    "print(leap_year)"
   ]
  },
  {
   "cell_type": "code",
   "execution_count": 38,
   "metadata": {},
   "outputs": [
    {
     "name": "stdout",
     "output_type": "stream",
     "text": [
      "3.1415927300133055\n",
      "3.1415926535897936\n"
     ]
    }
   ],
   "source": [
    "def Srinivasa_Ramanujan(n):\n",
    "    sum = 0\n",
    "    for k in range(0,n+1):\n",
    "        numerator = math.factorial(4*k)*(1103+26390*k)\n",
    "        denominator = (math.factorial(k)**4)*(396**(4*k))\n",
    "        sum += numerator / denominator\n",
    "    return (2*math.sqrt(2)/9801) * sum\n",
    "\n",
    "totle = 1 / Srinivasa_Ramanujan(0)\n",
    "print(totle)\n",
    "totle = 1 / Srinivasa_Ramanujan(1)\n",
    "print(totle)\n"
   ]
  },
  {
   "cell_type": "code",
   "execution_count": 42,
   "metadata": {},
   "outputs": [
    {
     "name": "stdout",
     "output_type": "stream",
     "text": [
      "True\n"
     ]
    }
   ],
   "source": [
    "is_it = False\n",
    "for k in np.arange(math.pi,math.pi/6,-0.01):\n",
    "    if((math.sin(k)**2) + (math.cos(k)**2) == 1):\n",
    "        is_it = True\n",
    "    else:\n",
    "        is_it = False\n",
    "print(is_it)"
   ]
  },
  {
   "cell_type": "code",
   "execution_count": 43,
   "metadata": {},
   "outputs": [
    {
     "data": {
      "text/plain": [
       "0.8275467546646788"
      ]
     },
     "execution_count": 43,
     "metadata": {},
     "output_type": "execute_result"
    }
   ],
   "source": [
    "math.sin(math.degrees(87))"
   ]
  },
  {
   "cell_type": "code",
   "execution_count": 45,
   "metadata": {},
   "outputs": [
    {
     "data": {
      "text/plain": [
       "False"
      ]
     },
     "execution_count": 45,
     "metadata": {},
     "output_type": "execute_result"
    }
   ],
   "source": [
    "P = False\n",
    "Q = True\n",
    "\n",
    "P and Q or P and (not Q)"
   ]
  },
  {
   "cell_type": "code",
   "execution_count": 52,
   "metadata": {},
   "outputs": [
    {
     "name": "stdout",
     "output_type": "stream",
     "text": [
      "-116.47678286892855\n"
     ]
    }
   ],
   "source": [
    "\n",
    "\n",
    "rez_part1 = (math.e)**2 * 2 * math.sin(math.pi/6)\n",
    "rez_part2 = math.log(3)*math.cos(math.pi/9)\n",
    "rez = rez_part1 + rez_part2 * math.log(3) - 5**3\n",
    "print(rez)\n"
   ]
  },
  {
   "cell_type": "code",
   "execution_count": 54,
   "metadata": {},
   "outputs": [
    {
     "name": "stdout",
     "output_type": "stream",
     "text": [
      "False\n",
      "25\n"
     ]
    }
   ],
   "source": [
    "p = 1\n",
    "q = 1\n",
    "a = 10\n",
    "b = 25\n",
    "\n",
    "print((not p) and (not q))\n",
    "\n",
    "print((a < b) and (a := b))"
   ]
  },
  {
   "cell_type": "markdown",
   "metadata": {},
   "source": [
    "פרק 2"
   ]
  },
  {
   "cell_type": "code",
   "execution_count": 61,
   "metadata": {},
   "outputs": [
    {
     "name": "stdout",
     "output_type": "stream",
     "text": [
      "<class 'int'>\n",
      "<class 'int'>\n",
      "<class 'float'>\n",
      "<class 'float'>\n",
      "<class 'float'>\n",
      "<class 'float'>\n",
      "<class 'int'>\n"
     ]
    }
   ],
   "source": [
    "x = 10\n",
    "y = 3\n",
    "u = x + y\n",
    "v = x*y\n",
    "w = x/y\n",
    "z = math.sin(x)\n",
    "r = 8*math.sin(x) \n",
    "s = 5*math.sin(x*y)\n",
    "p = x**y\n",
    "\n",
    "print(type(u))\n",
    "print(type(v))\n",
    "print(type(w))\n",
    "print(type(z))\n",
    "print(type(r))\n",
    "print(type(s))\n",
    "print(type(p))"
   ]
  },
  {
   "cell_type": "code",
   "execution_count": 63,
   "metadata": {},
   "outputs": [
    {
     "name": "stdout",
     "output_type": "stream",
     "text": [
      "<class 'str'>\n",
      "<class 'float'>\n"
     ]
    }
   ],
   "source": [
    "s = '123'\n",
    "print(type(s))\n",
    "n = float(s)\n",
    "print(type(n))"
   ]
  },
  {
   "cell_type": "code",
   "execution_count": 68,
   "metadata": {},
   "outputs": [
    {
     "name": "stdout",
     "output_type": "stream",
     "text": [
      "False\n",
      "True\n",
      "True\n"
     ]
    }
   ],
   "source": [
    "s1 = 'HELLO'\n",
    "s2 = 'hello'\n",
    "print(s1 == s2)\n",
    "print(s1.lower() == s2)\n",
    "print(s1 == s2.upper())"
   ]
  },
  {
   "cell_type": "code",
   "execution_count": 86,
   "metadata": {},
   "outputs": [
    {
     "name": "stdout",
     "output_type": "stream",
     "text": [
      "The world Engineering has 11  letters\n",
      "The world Book has 4  letters\n"
     ]
    }
   ],
   "source": [
    "word1 = 'Engineering'\n",
    "word2 = 'Book'\n",
    "print (\"The world %s has %d  letters\" % (word1,len(word1)))\n",
    "print(\"The world %s has %d  letters\" % (word2,len(word2)))"
   ]
  },
  {
   "cell_type": "code",
   "execution_count": 89,
   "metadata": {},
   "outputs": [
    {
     "name": "stdout",
     "output_type": "stream",
     "text": [
      "True\n"
     ]
    }
   ],
   "source": [
    "\n",
    "s = 'Python is great!'\n",
    "w = 'Python'\n",
    "print(w in s)"
   ]
  },
  {
   "cell_type": "code",
   "execution_count": 92,
   "metadata": {},
   "outputs": [
    {
     "name": "stdout",
     "output_type": "stream",
     "text": [
      "great!\n"
     ]
    }
   ],
   "source": [
    "s = 'Python is great!'\n",
    "x = s.split()\n",
    "a = x[2]\n",
    "\n",
    "print(a)"
   ]
  },
  {
   "cell_type": "code",
   "execution_count": 95,
   "metadata": {},
   "outputs": [
    {
     "name": "stdout",
     "output_type": "stream",
     "text": [
      "[1, 2, 8, 9, 15, 4]\n",
      "[1, 2, 4, 8, 9, 15]\n"
     ]
    }
   ],
   "source": [
    "\n",
    "\n",
    "list_a = [1, 8, 9, 15]\n",
    "list_a.insert(1,2)\n",
    "list_a.append(4)\n",
    "\n",
    "\n",
    "print(list_a)\n",
    "list_a.sort()\n",
    "print(list_a)"
   ]
  },
  {
   "cell_type": "code",
   "execution_count": 97,
   "metadata": {},
   "outputs": [
    {
     "name": "stdout",
     "output_type": "stream",
     "text": [
      "[-10.          -9.7979798   -9.5959596   -9.39393939  -9.19191919\n",
      "  -8.98989899  -8.78787879  -8.58585859  -8.38383838  -8.18181818\n",
      "  -7.97979798  -7.77777778  -7.57575758  -7.37373737  -7.17171717\n",
      "  -6.96969697  -6.76767677  -6.56565657  -6.36363636  -6.16161616\n",
      "  -5.95959596  -5.75757576  -5.55555556  -5.35353535  -5.15151515\n",
      "  -4.94949495  -4.74747475  -4.54545455  -4.34343434  -4.14141414\n",
      "  -3.93939394  -3.73737374  -3.53535354  -3.33333333  -3.13131313\n",
      "  -2.92929293  -2.72727273  -2.52525253  -2.32323232  -2.12121212\n",
      "  -1.91919192  -1.71717172  -1.51515152  -1.31313131  -1.11111111\n",
      "  -0.90909091  -0.70707071  -0.50505051  -0.3030303   -0.1010101\n",
      "   0.1010101    0.3030303    0.50505051   0.70707071   0.90909091\n",
      "   1.11111111   1.31313131   1.51515152   1.71717172   1.91919192\n",
      "   2.12121212   2.32323232   2.52525253   2.72727273   2.92929293\n",
      "   3.13131313   3.33333333   3.53535354   3.73737374   3.93939394\n",
      "   4.14141414   4.34343434   4.54545455   4.74747475   4.94949495\n",
      "   5.15151515   5.35353535   5.55555556   5.75757576   5.95959596\n",
      "   6.16161616   6.36363636   6.56565657   6.76767677   6.96969697\n",
      "   7.17171717   7.37373737   7.57575758   7.77777778   7.97979798\n",
      "   8.18181818   8.38383838   8.58585859   8.78787879   8.98989899\n",
      "   9.19191919   9.39393939   9.5959596    9.7979798   10.        ]\n"
     ]
    }
   ],
   "source": [
    "array = np.linspace(-10,10,100)\n",
    "print(array)"
   ]
  },
  {
   "cell_type": "code",
   "execution_count": 100,
   "metadata": {},
   "outputs": [
    {
     "name": "stdout",
     "output_type": "stream",
     "text": [
      "[1 2 3]\n"
     ]
    }
   ],
   "source": [
    "arrayA = np.array([-1, 0, 1, 2, 0, 3])\n",
    "arrayB = arrayA[arrayA > 0]\n",
    "print(arrayB) "
   ]
  },
  {
   "cell_type": "code",
   "execution_count": 115,
   "metadata": {},
   "outputs": [
    {
     "name": "stdout",
     "output_type": "stream",
     "text": [
      "[[3 2 3]\n",
      " [5 2 8]\n",
      " [3 5 9]]\n"
     ]
    }
   ],
   "source": [
    "A = np.array([[3,5,3],[2,2,5],[3,8,9]])\n",
    "t = A.T\n",
    "print(t)"
   ]
  },
  {
   "cell_type": "code",
   "execution_count": 118,
   "metadata": {},
   "outputs": [
    {
     "name": "stdout",
     "output_type": "stream",
     "text": [
      "[[0. 0. 0. 0.]\n",
      " [0. 0. 0. 0.]]\n"
     ]
    }
   ],
   "source": [
    "Z = np.zeros((2,4))\n",
    "print(Z)"
   ]
  },
  {
   "cell_type": "code",
   "execution_count": 121,
   "metadata": {},
   "outputs": [
    {
     "name": "stdout",
     "output_type": "stream",
     "text": [
      "[[0. 1. 0. 0.]\n",
      " [0. 1. 0. 0.]]\n"
     ]
    }
   ],
   "source": [
    "Z = np.zeros((2,4))\n",
    "Z[:,1] = 1\n",
    "print(Z)"
   ]
  },
  {
   "cell_type": "code",
   "execution_count": 122,
   "metadata": {},
   "outputs": [],
   "source": [
    "%reset -f"
   ]
  }
 ],
 "metadata": {
  "kernelspec": {
   "display_name": "Python 3",
   "language": "python",
   "name": "python3"
  },
  "language_info": {
   "codemirror_mode": {
    "name": "ipython",
    "version": 3
   },
   "file_extension": ".py",
   "mimetype": "text/x-python",
   "name": "python",
   "nbconvert_exporter": "python",
   "pygments_lexer": "ipython3",
   "version": "3.12.2"
  }
 },
 "nbformat": 4,
 "nbformat_minor": 2
}
