{
 "cells": [
  {
   "cell_type": "markdown",
   "metadata": {},
   "source": [
    "מטלה 2"
   ]
  },
  {
   "cell_type": "code",
   "execution_count": 7,
   "metadata": {},
   "outputs": [],
   "source": [
    "import math\n",
    "import numpy as np"
   ]
  },
  {
   "cell_type": "markdown",
   "metadata": {},
   "source": [
    "פרק 3"
   ]
  },
  {
   "cell_type": "code",
   "execution_count": 9,
   "metadata": {},
   "outputs": [
    {
     "name": "stdout",
     "output_type": "stream",
     "text": [
      "3.626860407847019\n"
     ]
    }
   ],
   "source": [
    "\n",
    "def my_sinh(x):\n",
    "    return (math.exp(x)-math.exp(-x)) / 2     \n",
    "\n",
    "print(my_sinh(2))"
   ]
  },
  {
   "cell_type": "code",
   "execution_count": 28,
   "metadata": {},
   "outputs": [
    {
     "name": "stdout",
     "output_type": "stream",
     "text": [
      "0 1 0 1 0 \n",
      "\n",
      "1 0 1 0 1 \n",
      "\n",
      "0 1 0 1 0 \n",
      "\n",
      "1 0 1 0 1 \n",
      "\n",
      "0 1 0 1 0 \n",
      "\n"
     ]
    }
   ],
   "source": [
    "def my_checker_board(n):\n",
    "    x = 0\n",
    "    for r in range(n):\n",
    "        x = r % 2\n",
    "        for c in range(n):\n",
    "            print(x, end=\" \")\n",
    "            x = 1-x\n",
    "        print(\"\\n\")\n",
    "my_checker_board(5)"
   ]
  },
  {
   "cell_type": "code",
   "execution_count": 29,
   "metadata": {},
   "outputs": [
    {
     "name": "stdout",
     "output_type": "stream",
     "text": [
      "0.5\n"
     ]
    }
   ],
   "source": [
    "def my_triangle(b,h):\n",
    "    return (b*h)/2\n",
    "print(my_triangle(1,1))"
   ]
  },
  {
   "cell_type": "code",
   "execution_count": 36,
   "metadata": {},
   "outputs": [
    {
     "name": "stdout",
     "output_type": "stream",
     "text": [
      "Sub-array 1:\n",
      "[[1 2]\n",
      " [4 5]\n",
      " [7 8]]\n",
      "\n",
      "Sub-array 2:\n",
      "[[3]\n",
      " [6]\n",
      " [9]]\n",
      "\n",
      "Sub-array 3:\n",
      "[]\n",
      "\n"
     ]
    }
   ],
   "source": [
    "def  my_split_matrix(m):\n",
    "    arry = m\n",
    "    subarray =  np.split(m,(2,3),axis=1)\n",
    "    return subarray\n",
    "m = np.array([[1, 2, 3], [4, 5, 6], [7, 8, 9]])\n",
    "m1 = my_split_matrix(m)\n",
    "for i, sub in enumerate(m1):\n",
    "    print(f\"Sub-array {i+1}:\\n{sub}\\n\")\n"
   ]
  },
  {
   "cell_type": "code",
   "execution_count": 37,
   "metadata": {},
   "outputs": [
    {
     "name": "stdout",
     "output_type": "stream",
     "text": [
      "(37.69911184307752, 15.707963267948966)\n"
     ]
    }
   ],
   "source": [
    "def my_cylinder(r,h) :\n",
    "    surface = (2 * math.pi * r**2) + 2 * math.pi * r * h\n",
    "    volume = math.pi * r**2 *h \n",
    "    return surface , volume\n",
    "\n",
    "print(my_cylinder(1,5))"
   ]
  },
  {
   "cell_type": "code",
   "execution_count": 41,
   "metadata": {},
   "outputs": [
    {
     "name": "stdout",
     "output_type": "stream",
     "text": [
      "50\n"
     ]
    }
   ],
   "source": [
    "def my_n_odds(a):\n",
    "    number_of_odd = 0\n",
    "    for x in a:\n",
    "        if(x%2 != 0):\n",
    "            number_of_odd += 1\n",
    "    return number_of_odd\n",
    "rez = my_n_odds(np.arange(100))\n",
    "print(rez)"
   ]
  },
  {
   "cell_type": "code",
   "execution_count": 58,
   "metadata": {},
   "outputs": [
    {
     "name": "stdout",
     "output_type": "stream",
     "text": [
      "2 2 \n",
      "2 2 \n",
      "2 2 \n"
     ]
    }
   ],
   "source": [
    "def  my_twos(m,n):\n",
    "    for x in range(m):\n",
    "        for y in range(n):\n",
    "            print(2,end=\" \")\n",
    "        print()\n",
    "my_twos(3,2)"
   ]
  },
  {
   "cell_type": "code",
   "execution_count": 60,
   "metadata": {},
   "outputs": [
    {
     "name": "stdout",
     "output_type": "stream",
     "text": [
      "-2\n"
     ]
    }
   ],
   "source": [
    "my_sub = lambda x, y: x - y\n",
    "\n",
    "print(my_sub(2, 4))"
   ]
  },
  {
   "cell_type": "code",
   "execution_count": 62,
   "metadata": {},
   "outputs": [
    {
     "name": "stdout",
     "output_type": "stream",
     "text": [
      "Programming is fun!\n"
     ]
    }
   ],
   "source": [
    "def add_string(s1,s2):\n",
    "    s3 = s1 + s2\n",
    "    return s3\n",
    "s1 = add_string('Programming', ' ')\n",
    "s2 = add_string('is', ' fun!')\n",
    "print(add_string(s1,s2))"
   ]
  },
  {
   "cell_type": "code",
   "execution_count": 66,
   "metadata": {},
   "outputs": [
    {
     "name": "stdout",
     "output_type": "stream",
     "text": [
      "Hi, my name is John and I am 26 years old.\n"
     ]
    }
   ],
   "source": [
    "def greeting(name,age):\n",
    "    print('Hi, my name is %s and I am %d years old.'%(name,age))\n",
    "\n",
    "greeting('John', 26)"
   ]
  },
  {
   "cell_type": "markdown",
   "metadata": {},
   "source": [
    "פרק 9"
   ]
  },
  {
   "cell_type": "code",
   "execution_count": 17,
   "metadata": {},
   "outputs": [
    {
     "name": "stdout",
     "output_type": "stream",
     "text": [
      "85\n"
     ]
    }
   ],
   "source": [
    "def my_bin_2_dec(b):\n",
    "    if(not b):\n",
    "        return 0\n",
    "    d = 0\n",
    "    base = 1\n",
    "    for digit in reversed(b):\n",
    "        d = (digit * base) + d\n",
    "        base *= 2\n",
    "    return d\n",
    "print( my_bin_2_dec([1, 0, 1, 0, 1, 0, 1]))"
   ]
  },
  {
   "cell_type": "code",
   "execution_count": 20,
   "metadata": {},
   "outputs": [
    {
     "name": "stdout",
     "output_type": "stream",
     "text": [
      "[1, 1, 1]\n"
     ]
    }
   ],
   "source": [
    "def my_dec_2_bin(d):\n",
    "    if(d == 0):\n",
    "        return [0]\n",
    "    b = []\n",
    "    while(d > 0):\n",
    "        b.append(d%2)\n",
    "        d = d // 2\n",
    "    return b[::-1]\n",
    "print(my_dec_2_bin(7))"
   ]
  },
  {
   "cell_type": "code",
   "execution_count": 21,
   "metadata": {},
   "outputs": [
    {
     "data": {
      "text/plain": [
       "7587"
      ]
     },
     "execution_count": 21,
     "metadata": {},
     "output_type": "execute_result"
    }
   ],
   "source": [
    "my_bin_2_dec(my_dec_2_bin(12654))"
   ]
  },
  {
   "cell_type": "code",
   "execution_count": 3,
   "metadata": {},
   "outputs": [
    {
     "name": "stdout",
     "output_type": "stream",
     "text": [
      "[1, 0, 0, 0, 0, 0]\n"
     ]
    }
   ],
   "source": [
    "def my_bin_adder(b1, b2):\n",
    "\n",
    "    max_len = max(len(b1), len(b2))\n",
    "    b1 = [0] * (max_len - len(b1)) + b1\n",
    "    b2 = [0] * (max_len - len(b2)) + b2\n",
    "\n",
    "    result = []\n",
    "    carry = 0\n",
    "\n",
    "    for i in range(max_len - 1, -1, -1):\n",
    "        total = b1[i] + b2[i] + carry\n",
    "        result.append(total % 2) \n",
    "        carry = total // 2  \n",
    "\n",
    "    if carry:\n",
    "        result.append(carry)\n",
    "\n",
    "    \n",
    "    result.reverse()\n",
    "    return result\n",
    "\n",
    "print(my_bin_adder([1, 1, 1, 1, 1], [1])) \n",
    "\n",
    "         \n",
    "      "
   ]
  },
  {
   "cell_type": "markdown",
   "metadata": {},
   "source": [
    "What is the effect of allocating more bits to the fraction versus the characteristic and vice versa? What is the effect of allocating more bits to the sign?\n",
    "שגיאת העיגול תגדל"
   ]
  },
  {
   "cell_type": "code",
   "execution_count": null,
   "metadata": {},
   "outputs": [],
   "source": []
  }
 ],
 "metadata": {
  "kernelspec": {
   "display_name": "Python 3",
   "language": "python",
   "name": "python3"
  },
  "language_info": {
   "codemirror_mode": {
    "name": "ipython",
    "version": 3
   },
   "file_extension": ".py",
   "mimetype": "text/x-python",
   "name": "python",
   "nbconvert_exporter": "python",
   "pygments_lexer": "ipython3",
   "version": "3.12.2"
  }
 },
 "nbformat": 4,
 "nbformat_minor": 2
}
